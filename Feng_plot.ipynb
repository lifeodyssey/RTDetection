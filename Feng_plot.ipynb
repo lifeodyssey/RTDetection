{
 "cells": [
  {
   "cell_type": "code",
   "execution_count": 2,
   "metadata": {
    "ExecuteTime": {
     "end_time": "2021-01-07T05:04:37.781839Z",
     "start_time": "2021-01-07T05:04:37.719211Z"
    }
   },
   "outputs": [],
   "source": [
    "import pandas as pd\n",
    "import numpy as np\n",
    "\n",
    "import matplotlib.pyplot as plt"
   ]
  },
  {
   "cell_type": "code",
   "execution_count": 3,
   "metadata": {
    "ExecuteTime": {
     "end_time": "2021-01-07T05:06:33.076716Z",
     "start_time": "2021-01-07T05:06:33.050478Z"
    }
   },
   "outputs": [],
   "source": [
    "data=pd.read_excel('Copy of scatter_figure3.xlsx')"
   ]
  },
  {
   "cell_type": "code",
   "execution_count": 4,
   "metadata": {
    "ExecuteTime": {
     "end_time": "2021-01-07T05:06:40.806441Z",
     "start_time": "2021-01-07T05:06:40.788491Z"
    }
   },
   "outputs": [
    {
     "data": {
      "text/html": [
       "<div>\n",
       "<style scoped>\n",
       "    .dataframe tbody tr th:only-of-type {\n",
       "        vertical-align: middle;\n",
       "    }\n",
       "\n",
       "    .dataframe tbody tr th {\n",
       "        vertical-align: top;\n",
       "    }\n",
       "\n",
       "    .dataframe thead th {\n",
       "        text-align: right;\n",
       "    }\n",
       "</style>\n",
       "<table border=\"1\" class=\"dataframe\">\n",
       "  <thead>\n",
       "    <tr style=\"text-align: right;\">\n",
       "      <th></th>\n",
       "      <th>chattonella</th>\n",
       "      <th>Chl a</th>\n",
       "      <th>KBBI</th>\n",
       "      <th>ss490</th>\n",
       "      <th>skeletonema</th>\n",
       "      <th>Chl a.1</th>\n",
       "      <th>KBBI.1</th>\n",
       "      <th>ss490.1</th>\n",
       "      <th>non-bloom</th>\n",
       "      <th>Chl a.2</th>\n",
       "      <th>KBBI.2</th>\n",
       "      <th>ss490.2</th>\n",
       "    </tr>\n",
       "  </thead>\n",
       "  <tbody>\n",
       "    <tr>\n",
       "      <th>0</th>\n",
       "      <td>NaN</td>\n",
       "      <td>147.540</td>\n",
       "      <td>0.222992</td>\n",
       "      <td>-0.000423</td>\n",
       "      <td>NaN</td>\n",
       "      <td>35.41</td>\n",
       "      <td>0.011991</td>\n",
       "      <td>-0.000619</td>\n",
       "      <td>NaN</td>\n",
       "      <td>3.88</td>\n",
       "      <td>-0.012033</td>\n",
       "      <td>0.000549</td>\n",
       "    </tr>\n",
       "    <tr>\n",
       "      <th>1</th>\n",
       "      <td>NaN</td>\n",
       "      <td>575.350</td>\n",
       "      <td>0.215311</td>\n",
       "      <td>-0.000376</td>\n",
       "      <td>NaN</td>\n",
       "      <td>35.58</td>\n",
       "      <td>0.064131</td>\n",
       "      <td>-0.000645</td>\n",
       "      <td>NaN</td>\n",
       "      <td>6.44</td>\n",
       "      <td>-0.051456</td>\n",
       "      <td>0.001422</td>\n",
       "    </tr>\n",
       "    <tr>\n",
       "      <th>2</th>\n",
       "      <td>NaN</td>\n",
       "      <td>111.940</td>\n",
       "      <td>0.661559</td>\n",
       "      <td>-0.000469</td>\n",
       "      <td>NaN</td>\n",
       "      <td>20.73</td>\n",
       "      <td>0.034150</td>\n",
       "      <td>-0.000565</td>\n",
       "      <td>NaN</td>\n",
       "      <td>3.62</td>\n",
       "      <td>-0.014009</td>\n",
       "      <td>0.001600</td>\n",
       "    </tr>\n",
       "    <tr>\n",
       "      <th>3</th>\n",
       "      <td>NaN</td>\n",
       "      <td>146.100</td>\n",
       "      <td>0.433142</td>\n",
       "      <td>-0.000250</td>\n",
       "      <td>NaN</td>\n",
       "      <td>16.73</td>\n",
       "      <td>0.002255</td>\n",
       "      <td>-0.000354</td>\n",
       "      <td>NaN</td>\n",
       "      <td>3.48</td>\n",
       "      <td>-0.071208</td>\n",
       "      <td>0.000650</td>\n",
       "    </tr>\n",
       "    <tr>\n",
       "      <th>4</th>\n",
       "      <td>NaN</td>\n",
       "      <td>228.702</td>\n",
       "      <td>0.312427</td>\n",
       "      <td>-0.001030</td>\n",
       "      <td>NaN</td>\n",
       "      <td>20.69</td>\n",
       "      <td>-0.077971</td>\n",
       "      <td>-0.001460</td>\n",
       "      <td>NaN</td>\n",
       "      <td>25.10</td>\n",
       "      <td>-0.087220</td>\n",
       "      <td>-0.000466</td>\n",
       "    </tr>\n",
       "    <tr>\n",
       "      <th>5</th>\n",
       "      <td>NaN</td>\n",
       "      <td>228.702</td>\n",
       "      <td>0.262147</td>\n",
       "      <td>-0.000793</td>\n",
       "      <td>NaN</td>\n",
       "      <td>NaN</td>\n",
       "      <td>NaN</td>\n",
       "      <td>NaN</td>\n",
       "      <td>NaN</td>\n",
       "      <td>13.11</td>\n",
       "      <td>-0.088045</td>\n",
       "      <td>-0.000362</td>\n",
       "    </tr>\n",
       "    <tr>\n",
       "      <th>6</th>\n",
       "      <td>NaN</td>\n",
       "      <td>166.255</td>\n",
       "      <td>0.194315</td>\n",
       "      <td>-0.001185</td>\n",
       "      <td>NaN</td>\n",
       "      <td>NaN</td>\n",
       "      <td>NaN</td>\n",
       "      <td>NaN</td>\n",
       "      <td>NaN</td>\n",
       "      <td>19.86</td>\n",
       "      <td>-0.092750</td>\n",
       "      <td>-0.000371</td>\n",
       "    </tr>\n",
       "    <tr>\n",
       "      <th>7</th>\n",
       "      <td>NaN</td>\n",
       "      <td>NaN</td>\n",
       "      <td>NaN</td>\n",
       "      <td>NaN</td>\n",
       "      <td>NaN</td>\n",
       "      <td>NaN</td>\n",
       "      <td>NaN</td>\n",
       "      <td>NaN</td>\n",
       "      <td>NaN</td>\n",
       "      <td>14.63</td>\n",
       "      <td>0.009787</td>\n",
       "      <td>-0.000302</td>\n",
       "    </tr>\n",
       "    <tr>\n",
       "      <th>8</th>\n",
       "      <td>NaN</td>\n",
       "      <td>NaN</td>\n",
       "      <td>NaN</td>\n",
       "      <td>NaN</td>\n",
       "      <td>NaN</td>\n",
       "      <td>NaN</td>\n",
       "      <td>NaN</td>\n",
       "      <td>NaN</td>\n",
       "      <td>NaN</td>\n",
       "      <td>15.73</td>\n",
       "      <td>-0.054610</td>\n",
       "      <td>-0.000299</td>\n",
       "    </tr>\n",
       "    <tr>\n",
       "      <th>9</th>\n",
       "      <td>NaN</td>\n",
       "      <td>NaN</td>\n",
       "      <td>NaN</td>\n",
       "      <td>NaN</td>\n",
       "      <td>NaN</td>\n",
       "      <td>NaN</td>\n",
       "      <td>NaN</td>\n",
       "      <td>NaN</td>\n",
       "      <td>NaN</td>\n",
       "      <td>6.60</td>\n",
       "      <td>0.027602</td>\n",
       "      <td>-0.000117</td>\n",
       "    </tr>\n",
       "    <tr>\n",
       "      <th>10</th>\n",
       "      <td>NaN</td>\n",
       "      <td>NaN</td>\n",
       "      <td>NaN</td>\n",
       "      <td>NaN</td>\n",
       "      <td>NaN</td>\n",
       "      <td>NaN</td>\n",
       "      <td>NaN</td>\n",
       "      <td>NaN</td>\n",
       "      <td>NaN</td>\n",
       "      <td>5.24</td>\n",
       "      <td>-0.017332</td>\n",
       "      <td>0.000057</td>\n",
       "    </tr>\n",
       "    <tr>\n",
       "      <th>11</th>\n",
       "      <td>NaN</td>\n",
       "      <td>NaN</td>\n",
       "      <td>NaN</td>\n",
       "      <td>NaN</td>\n",
       "      <td>NaN</td>\n",
       "      <td>NaN</td>\n",
       "      <td>NaN</td>\n",
       "      <td>NaN</td>\n",
       "      <td>NaN</td>\n",
       "      <td>3.28</td>\n",
       "      <td>-0.020892</td>\n",
       "      <td>-0.000129</td>\n",
       "    </tr>\n",
       "    <tr>\n",
       "      <th>12</th>\n",
       "      <td>NaN</td>\n",
       "      <td>NaN</td>\n",
       "      <td>X-KBBI</td>\n",
       "      <td>NaN</td>\n",
       "      <td>NaN</td>\n",
       "      <td>NaN</td>\n",
       "      <td>NaN</td>\n",
       "      <td>NaN</td>\n",
       "      <td>NaN</td>\n",
       "      <td>NaN</td>\n",
       "      <td>NaN</td>\n",
       "      <td>NaN</td>\n",
       "    </tr>\n",
       "    <tr>\n",
       "      <th>13</th>\n",
       "      <td>NaN</td>\n",
       "      <td>NaN</td>\n",
       "      <td>Y-SS490</td>\n",
       "      <td>NaN</td>\n",
       "      <td>NaN</td>\n",
       "      <td>NaN</td>\n",
       "      <td>NaN</td>\n",
       "      <td>NaN</td>\n",
       "      <td>NaN</td>\n",
       "      <td>NaN</td>\n",
       "      <td>NaN</td>\n",
       "      <td>NaN</td>\n",
       "    </tr>\n",
       "    <tr>\n",
       "      <th>14</th>\n",
       "      <td>NaN</td>\n",
       "      <td>NaN</td>\n",
       "      <td>points color- Chl a</td>\n",
       "      <td>NaN</td>\n",
       "      <td>NaN</td>\n",
       "      <td>NaN</td>\n",
       "      <td>NaN</td>\n",
       "      <td>NaN</td>\n",
       "      <td>NaN</td>\n",
       "      <td>NaN</td>\n",
       "      <td>NaN</td>\n",
       "      <td>NaN</td>\n",
       "    </tr>\n",
       "  </tbody>\n",
       "</table>\n",
       "</div>"
      ],
      "text/plain": [
       "    chattonella    Chl a                 KBBI     ss490  skeletonema  Chl a.1  \\\n",
       "0           NaN  147.540             0.222992 -0.000423          NaN    35.41   \n",
       "1           NaN  575.350             0.215311 -0.000376          NaN    35.58   \n",
       "2           NaN  111.940             0.661559 -0.000469          NaN    20.73   \n",
       "3           NaN  146.100             0.433142 -0.000250          NaN    16.73   \n",
       "4           NaN  228.702             0.312427 -0.001030          NaN    20.69   \n",
       "5           NaN  228.702             0.262147 -0.000793          NaN      NaN   \n",
       "6           NaN  166.255             0.194315 -0.001185          NaN      NaN   \n",
       "7           NaN      NaN                  NaN       NaN          NaN      NaN   \n",
       "8           NaN      NaN                  NaN       NaN          NaN      NaN   \n",
       "9           NaN      NaN                  NaN       NaN          NaN      NaN   \n",
       "10          NaN      NaN                  NaN       NaN          NaN      NaN   \n",
       "11          NaN      NaN                  NaN       NaN          NaN      NaN   \n",
       "12          NaN      NaN               X-KBBI       NaN          NaN      NaN   \n",
       "13          NaN      NaN              Y-SS490       NaN          NaN      NaN   \n",
       "14          NaN      NaN  points color- Chl a       NaN          NaN      NaN   \n",
       "\n",
       "      KBBI.1   ss490.1  non-bloom  Chl a.2    KBBI.2   ss490.2  \n",
       "0   0.011991 -0.000619        NaN     3.88 -0.012033  0.000549  \n",
       "1   0.064131 -0.000645        NaN     6.44 -0.051456  0.001422  \n",
       "2   0.034150 -0.000565        NaN     3.62 -0.014009  0.001600  \n",
       "3   0.002255 -0.000354        NaN     3.48 -0.071208  0.000650  \n",
       "4  -0.077971 -0.001460        NaN    25.10 -0.087220 -0.000466  \n",
       "5        NaN       NaN        NaN    13.11 -0.088045 -0.000362  \n",
       "6        NaN       NaN        NaN    19.86 -0.092750 -0.000371  \n",
       "7        NaN       NaN        NaN    14.63  0.009787 -0.000302  \n",
       "8        NaN       NaN        NaN    15.73 -0.054610 -0.000299  \n",
       "9        NaN       NaN        NaN     6.60  0.027602 -0.000117  \n",
       "10       NaN       NaN        NaN     5.24 -0.017332  0.000057  \n",
       "11       NaN       NaN        NaN     3.28 -0.020892 -0.000129  \n",
       "12       NaN       NaN        NaN      NaN       NaN       NaN  \n",
       "13       NaN       NaN        NaN      NaN       NaN       NaN  \n",
       "14       NaN       NaN        NaN      NaN       NaN       NaN  "
      ]
     },
     "execution_count": 4,
     "metadata": {},
     "output_type": "execute_result"
    }
   ],
   "source": [
    "data"
   ]
  },
  {
   "cell_type": "code",
   "execution_count": 5,
   "metadata": {
    "ExecuteTime": {
     "end_time": "2021-01-07T05:07:56.621558Z",
     "start_time": "2021-01-07T05:07:56.618962Z"
    }
   },
   "outputs": [],
   "source": [
    "Chla_Chat=[147.54,\n",
    "575.35,\n",
    "111.94,\n",
    "146.1,\n",
    "228.702,\n",
    "228.702,\n",
    "166.255]"
   ]
  },
  {
   "cell_type": "code",
   "execution_count": 6,
   "metadata": {
    "ExecuteTime": {
     "end_time": "2021-01-07T05:09:06.258345Z",
     "start_time": "2021-01-07T05:09:06.255421Z"
    }
   },
   "outputs": [],
   "source": [
    "KBBI_Chat=[0.222992442,\n",
    "0.21531084,\n",
    "0.661559162,\n",
    "0.43314232,\n",
    "0.312426751,\n",
    "0.262147003,\n",
    "0.194315051]"
   ]
  },
  {
   "cell_type": "code",
   "execution_count": 7,
   "metadata": {
    "ExecuteTime": {
     "end_time": "2021-01-07T05:09:27.260852Z",
     "start_time": "2021-01-07T05:09:27.258094Z"
    }
   },
   "outputs": [],
   "source": [
    "SS_chat=[\n",
    "    -0.00042329,\n",
    "-0.000376227,\n",
    "-0.000469052,\n",
    "-0.00024956,\n",
    "-0.001030194,\n",
    "-0.000793046,\n",
    "-0.001185005,\n",
    "]"
   ]
  },
  {
   "cell_type": "code",
   "execution_count": 8,
   "metadata": {
    "ExecuteTime": {
     "end_time": "2021-01-07T05:10:44.014698Z",
     "start_time": "2021-01-07T05:10:44.011575Z"
    }
   },
   "outputs": [],
   "source": [
    "Chla_Sk=[35.41,\n",
    "35.58,\n",
    "20.73,\n",
    "16.73,\n",
    "20.69,    \n",
    "]\n",
    "KBBI_sk=[0.011991427,\n",
    "0.064130579,\n",
    "0.034150088,\n",
    "0.002254919,\n",
    "-0.077971207,    \n",
    "]\n",
    "SS_sk=[-0.000619003,\n",
    "-0.00064451,\n",
    "-0.000564539,\n",
    "-0.000353731,\n",
    "-0.001459811\n",
    "    \n",
    "]"
   ]
  },
  {
   "cell_type": "code",
   "execution_count": 9,
   "metadata": {
    "ExecuteTime": {
     "end_time": "2021-01-07T05:12:00.455311Z",
     "start_time": "2021-01-07T05:12:00.451032Z"
    }
   },
   "outputs": [],
   "source": [
    "Chla_nb=[\n",
    "    3.88,\n",
    "6.44,\n",
    "3.62,\n",
    "3.48,\n",
    "25.1,\n",
    "13.11,\n",
    "19.86,\n",
    "14.63,\n",
    "15.73,\n",
    "6.6,\n",
    "5.24,\n",
    "3.28,\n",
    "]\n",
    "KBBI_nb=[\n",
    "    -0.012032869,\n",
    "-0.05145589,\n",
    "-0.014008584,\n",
    "-0.071208478,\n",
    "-0.087219713,\n",
    "-0.088045369,\n",
    "-0.092749674,\n",
    "0.009787375,\n",
    "-0.054609526,\n",
    "0.027602,\n",
    "-0.017331742,\n",
    "-0.020892433,\n",
    "]\n",
    "SS_nb=[0.000548516,\n",
    "0.001421613,\n",
    "0.001599654,\n",
    "0.000650068,\n",
    "-0.000465577,\n",
    "-0.00036246,\n",
    "-0.000370982,\n",
    "-0.000301691,\n",
    "-0.000298601,\n",
    "-0.000116648,\n",
    "5.73007E-05,\n",
    "-0.000128782,\n",
    "    \n",
    "]"
   ]
  },
  {
   "cell_type": "code",
   "execution_count": 22,
   "metadata": {
    "ExecuteTime": {
     "end_time": "2021-01-07T05:17:56.526995Z",
     "start_time": "2021-01-07T05:17:56.522351Z"
    }
   },
   "outputs": [
    {
     "data": {
      "text/plain": [
       "<Figure size 1152x1368 with 0 Axes>"
      ]
     },
     "metadata": {},
     "output_type": "display_data"
    }
   ],
   "source": [
    "fig = plt.figure(figsize=(16, 19))"
   ]
  },
  {
   "cell_type": "code",
   "execution_count": 23,
   "metadata": {
    "ExecuteTime": {
     "end_time": "2021-01-07T05:17:57.114961Z",
     "start_time": "2021-01-07T05:17:57.095854Z"
    }
   },
   "outputs": [],
   "source": [
    "ax = fig.add_subplot(111)"
   ]
  },
  {
   "cell_type": "code",
   "execution_count": 24,
   "metadata": {
    "ExecuteTime": {
     "end_time": "2021-01-07T05:17:58.413090Z",
     "start_time": "2021-01-07T05:17:58.410455Z"
    }
   },
   "outputs": [],
   "source": [
    "cm = plt.cm.get_cmap('jet')"
   ]
  },
  {
   "cell_type": "code",
   "execution_count": 25,
   "metadata": {
    "ExecuteTime": {
     "end_time": "2021-01-07T05:17:59.141752Z",
     "start_time": "2021-01-07T05:17:59.136676Z"
    }
   },
   "outputs": [
    {
     "name": "stderr",
     "output_type": "stream",
     "text": [
      "/Users/zhenjia/.conda/envs/HABDetection/lib/python3.7/site-packages/ipykernel_launcher.py:2: UserWarning: Matplotlib is currently using module://ipykernel.pylab.backend_inline, which is a non-GUI backend, so cannot show the figure.\n",
      "  \n"
     ]
    }
   ],
   "source": [
    "ax.scatter(x=KBBI_nb,y=SS_nb,c=Chla_nb,marker='+')"
   ]
  },
  {
   "cell_type": "code",
   "execution_count": null,
   "metadata": {},
   "outputs": [],
   "source": []
  }
 ],
 "metadata": {
  "kernelspec": {
   "display_name": "Python [conda env:.conda-HABDetection] *",
   "language": "python",
   "name": "conda-env-.conda-HABDetection-py"
  },
  "language_info": {
   "codemirror_mode": {
    "name": "ipython",
    "version": 3
   },
   "file_extension": ".py",
   "mimetype": "text/x-python",
   "name": "python",
   "nbconvert_exporter": "python",
   "pygments_lexer": "ipython3",
   "version": "3.7.8"
  },
  "latex_envs": {
   "LaTeX_envs_menu_present": true,
   "autoclose": false,
   "autocomplete": true,
   "bibliofile": "biblio.bib",
   "cite_by": "apalike",
   "current_citInitial": 1,
   "eqLabelWithNumbers": true,
   "eqNumInitial": 1,
   "hotkeys": {
    "equation": "Ctrl-E",
    "itemize": "Ctrl-I"
   },
   "labels_anchors": false,
   "latex_user_defs": false,
   "report_style_numbering": false,
   "user_envs_cfg": false
  },
  "toc": {
   "base_numbering": 1,
   "nav_menu": {},
   "number_sections": true,
   "sideBar": true,
   "skip_h1_title": false,
   "title_cell": "Table of Contents",
   "title_sidebar": "Contents",
   "toc_cell": false,
   "toc_position": {},
   "toc_section_display": true,
   "toc_window_display": true
  },
  "varInspector": {
   "cols": {
    "lenName": 16,
    "lenType": 16,
    "lenVar": 40
   },
   "kernels_config": {
    "python": {
     "delete_cmd_postfix": "",
     "delete_cmd_prefix": "del ",
     "library": "var_list.py",
     "varRefreshCmd": "print(var_dic_list())"
    },
    "r": {
     "delete_cmd_postfix": ") ",
     "delete_cmd_prefix": "rm(",
     "library": "var_list.r",
     "varRefreshCmd": "cat(var_dic_list()) "
    }
   },
   "types_to_exclude": [
    "module",
    "function",
    "builtin_function_or_method",
    "instance",
    "_Feature"
   ],
   "window_display": true
  }
 },
 "nbformat": 4,
 "nbformat_minor": 4
}
